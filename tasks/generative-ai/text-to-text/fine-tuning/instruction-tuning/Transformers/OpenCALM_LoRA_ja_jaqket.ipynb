{
 "cells": [
  {
   "cell_type": "markdown",
   "id": "9b262721-9ba7-40c2-acc4-96c41cf9230a",
   "metadata": {},
   "source": [
    "# OpenCALM SageMaker Finetuning\n",
    "\n",
    "This is a sample code to finetune and deploy [OpenCALM](https://huggingface.co/spaces/kyo-takano/OpenCALM-7B) with LoRA on SageMaker."
   ]
  },
  {
   "cell_type": "code",
   "execution_count": null,
   "id": "32904a97-bedb-451a-b2cc-ac691f7708de",
   "metadata": {
    "scrolled": true,
    "tags": []
   },
   "outputs": [],
   "source": [
    "!pip install -U \"sagemaker>=2.143.0\""
   ]
  },
  {
   "cell_type": "code",
   "execution_count": null,
   "id": "2edc8a17-9a6b-4dd6-823e-878f6b950ea2",
   "metadata": {
    "tags": []
   },
   "outputs": [],
   "source": [
    "import sagemaker, boto3, json\n",
    "from sagemaker import get_execution_role\n",
    "from sagemaker.pytorch.model import PyTorchModel\n",
    "from sagemaker.huggingface import HuggingFace\n",
    "\n",
    "role = get_execution_role()\n",
    "region = boto3.Session().region_name\n",
    "sess = sagemaker.Session()\n",
    "bucket = sess.default_bucket()\n",
    "\n",
    "sagemaker.__version__"
   ]
  },
  {
   "cell_type": "markdown",
   "id": "bc1b5fe7-9ed9-4d24-b344-a40a781a24a1",
   "metadata": {},
   "source": [
    "## Upload Data\n",
    "\n",
    "Fine Tuning 用の日本語データをフォルダに配置してアップロードする。\n",
    "\n",
    "ここでは例として [Databricks Dolly 15k](https://github.com/databrickslabs/dolly/tree/master/data) データセットを日本語に翻訳したものを利用します。(License: [Creative Commons Attribution-ShareAlike 3.0 Unported License](https://creativecommons.org/licenses/by-sa/3.0/legalcode))"
   ]
  },
  {
   "cell_type": "code",
   "execution_count": null,
   "id": "2ef68da3-a2d6-4f18-9803-d87f4687c9dd",
   "metadata": {
    "scrolled": true,
    "tags": []
   },
   "outputs": [],
   "source": [
    "!curl -L https://huggingface.co/datasets/kunishou/databricks-dolly-15k-ja/resolve/main/databricks-dolly-15k-ja.json --create-dirs -o ./data/databricks-dolly-15k-ja.json"
   ]
  },
  {
   "cell_type": "code",
   "execution_count": null,
   "id": "0f432997-71eb-4fb2-9aa2-ba51ffd243c8",
   "metadata": {
    "tags": []
   },
   "outputs": [],
   "source": [
    "!head ./data/databricks-dolly-15k-ja.json"
   ]
  },
  {
   "cell_type": "code",
   "execution_count": null,
   "id": "014e57f3-9435-490c-b9d9-0fa5a6a8a6a9",
   "metadata": {
    "tags": []
   },
   "outputs": [],
   "source": [
    "input_train = sess.upload_data(\n",
    "    path=\"./data/databricks-dolly-15k-ja.json\",\n",
    "    key_prefix=\"Dolly\"\n",
    ")\n",
    "input_train"
   ]
  },
  {
   "cell_type": "markdown",
   "id": "3d47afc7-8772-4c58-9a1e-5a5267593d88",
   "metadata": {},
   "source": [
    "また、必要に応じてデータセットを追加してすることも可能です。\n",
    "\n",
    "必要に応じて以下のコメントを解除して実行してください。その際は、`hyperparameters` の `data_path` をファイル名に合わせてください。"
   ]
  },
  {
   "cell_type": "code",
   "execution_count": null,
   "id": "392a84f5-8218-47de-8621-3fd7a2f6da35",
   "metadata": {
    "tags": []
   },
   "outputs": [],
   "source": [
    "# !curl -L https://huggingface.co/datasets/kunishou/hh-rlhf-49k-ja/resolve/main/mpt_hhrlhf_49k_ja.json --create-dirs -o ./data/mpt_hhrlhf_49k_ja.json"
   ]
  },
  {
   "cell_type": "code",
   "execution_count": null,
   "id": "6c8ef035-bc53-494a-86ce-9df611ef47e7",
   "metadata": {
    "tags": []
   },
   "outputs": [],
   "source": [
    "# !head ./data/mpt_hhrlhf_49k_ja.json"
   ]
  },
  {
   "cell_type": "code",
   "execution_count": null,
   "id": "40f0b706-c71d-4278-993a-7fa8b6c034af",
   "metadata": {
    "tags": []
   },
   "outputs": [],
   "source": [
    "# # Merge two json files\n",
    "# with open('./data/databricks-dolly-15k-ja.json', 'r') as f:\n",
    "#     dolly_data = json.load(f)\n",
    "# with open('./data/mpt_hhrlhf_49k_ja.json', 'r') as f:\n",
    "#     mpt_data = json.load(f)\n",
    "# new_data = dolly_data + mpt_data\n",
    "# new_data = [{\n",
    "#     'instruction': x['instruction'],\n",
    "#     'input': x['input'],\n",
    "#     'output': x['output']\n",
    "# } for x in new_data]"
   ]
  },
  {
   "cell_type": "code",
   "execution_count": null,
   "id": "a51ce33f-9984-4271-9086-1924d46a5ae4",
   "metadata": {
    "tags": []
   },
   "outputs": [],
   "source": [
    "# with open('./data/dolly-hhrlhf-ja.json', 'w', encoding='utf-8') as f:\n",
    "#     json.dump(new_data, f, ensure_ascii=False, indent=4)"
   ]
  },
  {
   "cell_type": "code",
   "execution_count": null,
   "id": "3439ca47-2f1c-4997-a1e6-e80665646300",
   "metadata": {
    "tags": []
   },
   "outputs": [],
   "source": [
    "# !head ./data/dolly-hhrlhf-ja.json"
   ]
  },
  {
   "cell_type": "code",
   "execution_count": null,
   "id": "4465d51a-e372-464b-9a24-010dd855081c",
   "metadata": {
    "tags": []
   },
   "outputs": [],
   "source": [
    "# input_train = sess.upload_data(\n",
    "#     path=\"./data/dolly-hhrlhf-ja.json\",\n",
    "#     key_prefix=\"Dolly\"\n",
    "# )\n",
    "# input_train"
   ]
  },
  {
   "cell_type": "markdown",
   "id": "2ae9977e-6be2-44a2-b1be-3b5d8e66df92",
   "metadata": {},
   "source": [
    "## AIO Dataset"
   ]
  },
  {
   "cell_type": "code",
   "execution_count": null,
   "id": "fd856b83-5a09-4db4-b33d-790f1b9ecffe",
   "metadata": {
    "tags": []
   },
   "outputs": [],
   "source": [
    "!head -n 2 data/aio_02_train.jsonl"
   ]
  },
  {
   "cell_type": "code",
   "execution_count": null,
   "id": "65efe8ce-09ed-4cc8-94e3-4198c49762ec",
   "metadata": {},
   "outputs": [],
   "source": [
    "# Convet .jsonl to .json\n",
    "import pandas as pd\n",
    "df = pd.read_json('data/aio_02_train.jsonl', orient='records', lines=True)\n",
    "df = df.rename(columns={\"question\": \"instruction\", \"answers\": \"output\"})\n",
    "df = df[[\"instruction\", \"output\"]]\n",
    "# Split to multiple row for each output\n",
    "# s = df[\"output\"].apply(pd.Series, 1).stack()\n",
    "# s.index = s.index.droplevel(-1)\n",
    "# s.name = \"output\"\n",
    "# del df[\"output\"]\n",
    "# df = df.join(s)\n",
    "# df = df.reset_index(drop=True)\n",
    "# print(sum(df[\"output\"].apply(lambda x: len(x) > 1)))\n",
    "df[\"output\"] = df[\"output\"].apply(lambda x: x[0])\n",
    "df[\"input\"] = \"\"\n",
    "# df = df[:2200]\n",
    "aio = df\n",
    "print(aio.shape)\n",
    "df.to_json(\"data/aio_02_train_formatted.jsonl\", orient='records', force_ascii=False, lines=True)"
   ]
  },
  {
   "cell_type": "code",
   "execution_count": null,
   "id": "dfa10b80-b583-499b-ae1f-d03cd7dd1435",
   "metadata": {
    "tags": []
   },
   "outputs": [],
   "source": [
    "input_train = sess.upload_data(\n",
    "    path=\"./data/aio_02_train_formatted.jsonl\",\n",
    "    key_prefix=\"OpenCALM\"\n",
    ")\n",
    "input_train"
   ]
  },
  {
   "cell_type": "markdown",
   "id": "6dbcf6e0-81b9-464d-a61e-969bc8042e62",
   "metadata": {},
   "source": [
    "## Extra Data"
   ]
  },
  {
   "cell_type": "code",
   "execution_count": null,
   "id": "e2d004b1-21be-4809-9761-c3b5bd855d51",
   "metadata": {
    "tags": []
   },
   "outputs": [],
   "source": [
    "# !head data/aio_02_train_formatted.jsonl"
   ]
  },
  {
   "cell_type": "code",
   "execution_count": null,
   "id": "4ecb3899-455c-4be9-9be6-992c999d1bf5",
   "metadata": {
    "tags": []
   },
   "outputs": [],
   "source": [
    "# !head data/jcommonsense-train-v1.1.json"
   ]
  },
  {
   "cell_type": "code",
   "execution_count": null,
   "id": "a283a18f-8147-46de-b67a-d817e7021e8e",
   "metadata": {
    "tags": []
   },
   "outputs": [],
   "source": [
    "# df = pd.read_json('data/jcommonsense-train-v1.1.json', orient='records', lines=True)\n",
    "# df = df.rename(columns={\"question\": \"instruction\"})\n",
    "# df[\"output\"] = [row[\"choice\" + str(row[\"label\"])] for _, row in df.iterrows()]\n",
    "# df[\"input\"] = [', '.join([row[\"choice0\"], row[\"choice1\"], row[\"choice2\"], row[\"choice3\"], row[\"choice4\"]]) for _, row in df.iterrows()]\n",
    "# df = df[[\"instruction\", \"output\", \"input\"]]\n",
    "# jcommonsense = df\n",
    "# print(jcommonsense.shape)"
   ]
  },
  {
   "cell_type": "code",
   "execution_count": null,
   "id": "0232e74a-5223-43f5-8d01-efe08f531ac1",
   "metadata": {
    "tags": []
   },
   "outputs": [],
   "source": [
    "# with open(\"data/jsquad-train-v1.1.json\", \"r\", encoding=\"utf-8\") as f:\n",
    "#     json_data = json.load(f)\n",
    "# data = []\n",
    "# for d in json_data[\"data\"]:\n",
    "#     title = d[\"title\"]\n",
    "#     for p in d[\"paragraphs\"]:\n",
    "#         context = p[\"context\"]\n",
    "#         for qa in p[\"qas\"]:\n",
    "#             data.append([\n",
    "#                 \"\", # context,\n",
    "#                 qa[\"question\"],\n",
    "#                 qa[\"answers\"][0][\"text\"],\n",
    "#             ])\n",
    "# jsquad = pd.DataFrame(data, columns=[\"input\", \"instruction\", \"output\"])\n",
    "# print(jsquad.shape)"
   ]
  },
  {
   "cell_type": "code",
   "execution_count": null,
   "id": "d9a280f7-42c8-4865-b671-e9811d22fb86",
   "metadata": {
    "tags": []
   },
   "outputs": [],
   "source": [
    "# df = pd.concat([aio, jcommonsense, df_jsquad])\n",
    "# df.shape\n",
    "# df.to_json(\"data/aio_02_train_augmented.jsonl\", orient='records', force_ascii=False, lines=True)"
   ]
  },
  {
   "cell_type": "code",
   "execution_count": null,
   "id": "38c1d531-7a8d-48b3-aa15-ea24ffbd2013",
   "metadata": {
    "tags": []
   },
   "outputs": [],
   "source": [
    "# !head ./data/aio_02_train_augmented.jsonl"
   ]
  },
  {
   "cell_type": "code",
   "execution_count": null,
   "id": "cbb07cb2-a6fd-4fb2-8282-99376b43a277",
   "metadata": {
    "tags": []
   },
   "outputs": [],
   "source": [
    "input_train = sess.upload_data(\n",
    "    path=\"./data/aio_02_train_augmented.jsonl\",\n",
    "    key_prefix=\"OpenCALM\"\n",
    ")\n",
    "input_train"
   ]
  },
  {
   "cell_type": "markdown",
   "id": "07b5098b-1ea9-4b85-88ee-9297d5e00c09",
   "metadata": {},
   "source": [
    "## Fine-tuning"
   ]
  },
  {
   "cell_type": "code",
   "execution_count": null,
   "id": "1cb98557-3a3f-40ef-baf3-538c4ee4aa8a",
   "metadata": {
    "tags": []
   },
   "outputs": [],
   "source": [
    "base_job_name=\"OpenCALM\"\n",
    "hyperparameters={\n",
    "    'base_model':'cyberagent/open-calm-7b',\n",
    "    'load_in_8bit': True,\n",
    "    # 'load_in_4bit': True,\n",
    "    'pad_token_id': 1,\n",
    "    'data_path': '/opt/ml/input/data/train/aio_02_train_formatted.jsonl',\n",
    "    'num_epochs': 2, # default 3\n",
    "    'cutoff_len': 256,\n",
    "    'group_by_length': False,\n",
    "    'output_dir': '/opt/ml/model',\n",
    "    # 'resume_from_checkpoint': '/opt/ml/checkpoints',\n",
    "    'lora_target_modules': '[query_key_value]',\n",
    "    'lora_r': 16,\n",
    "    'batch_size': 32,\n",
    "    'micro_batch_size': 4,\n",
    "    # 'val_set_size': 200,\n",
    "    'prompt_template_name': 'alpaca',\n",
    "}"
   ]
  },
  {
   "cell_type": "code",
   "execution_count": null,
   "id": "e4a8d836-d44f-4bdc-8d87-cff90f9f6ea7",
   "metadata": {
    "scrolled": true,
    "tags": []
   },
   "outputs": [],
   "source": [
    "huggingface_estimator = HuggingFace(\n",
    "    base_job_name=base_job_name,\n",
    "    role=role,\n",
    "    entry_point='finetune.py',\n",
    "    source_dir='./scripts/code',\n",
    "    instance_type='ml.g5.2xlarge',\n",
    "    instance_count=1,\n",
    "    volume_size=200,\n",
    "    transformers_version='4.26',\n",
    "    pytorch_version='1.13',\n",
    "    py_version='py39',\n",
    "    use_spot_instances=True,\n",
    "    max_wait=86400,\n",
    "    hyperparameters=hyperparameters,\n",
    "    metric_definitions=[{'Name': 'eval_loss', 'Regex': \"'eval_loss': (\\d\\.\\d+)\"},\n",
    "                        {'Name': 'train_loss', 'Regex': \"'loss': (\\d\\.\\d+)\"}],\n",
    "    # checkpoint_s3_uri=f\"s3://{bucket}/{base_job_name}/checkpoint/\",\n",
    ")\n",
    "huggingface_estimator.fit({'train': input_train})"
   ]
  },
  {
   "cell_type": "markdown",
   "id": "e8df141b-86f8-4eff-8ba5-129b78d3efd4",
   "metadata": {
    "tags": []
   },
   "source": [
    "## Download and Extract Model"
   ]
  },
  {
   "cell_type": "code",
   "execution_count": null,
   "id": "a02eb6aa-b4c3-4d60-a3fc-94f394df7ac1",
   "metadata": {
    "tags": []
   },
   "outputs": [],
   "source": [
    "import boto3\n",
    "import sagemaker\n",
    "\n",
    "def get_latest_training_job_artifact(base_job_name):\n",
    "    sagemaker_client = boto3.client('sagemaker')\n",
    "    response = sagemaker_client.list_training_jobs(NameContains=base_job_name, SortBy='CreationTime', SortOrder='Descending')\n",
    "    training_job_arn = response['TrainingJobSummaries'][0]['TrainingJobArn']\n",
    "    training_job_description = sagemaker_client.describe_training_job(TrainingJobName=training_job_arn.split('/')[-1])\n",
    "    return training_job_description['ModelArtifacts']['S3ModelArtifacts']\n",
    "\n",
    "try:\n",
    "    model_data = huggingface_estimator.model_data\n",
    "except:\n",
    "    # Retrieve artifact url when kernel is restarted\n",
    "    model_data = get_latest_training_job_artifact('OpenCALM')\n",
    "    \n",
    "!aws s3 cp {model_data} opencalm.tar.gz"
   ]
  },
  {
   "cell_type": "code",
   "execution_count": null,
   "id": "8e23bbc7-6038-4dfd-a632-21b38be59e78",
   "metadata": {
    "tags": []
   },
   "outputs": [],
   "source": [
    "!rm -rf scripts/model && mkdir scripts/model\n",
    "!tar -xvf opencalm.tar.gz -C scripts/model --no-same-owner --wildcards adapter_*\n",
    "!ls -l scripts/model"
   ]
  },
  {
   "cell_type": "markdown",
   "id": "44bf1cde-57d4-43f6-be6b-b09bd942219f",
   "metadata": {},
   "source": [
    "## Package and Upload Model"
   ]
  },
  {
   "cell_type": "code",
   "execution_count": null,
   "id": "916cee87-d530-4e67-8fa6-18550ff92532",
   "metadata": {
    "scrolled": true,
    "tags": []
   },
   "outputs": [],
   "source": [
    "%cd scripts\n",
    "!tar -czvf ../package.tar.gz *\n",
    "%cd -"
   ]
  },
  {
   "cell_type": "code",
   "execution_count": null,
   "id": "e252d1ba-c402-4352-a0f5-c59dc51d6fc9",
   "metadata": {
    "tags": []
   },
   "outputs": [],
   "source": [
    "model_path = sess.upload_data('package.tar.gz', bucket=bucket, key_prefix=f\"OpenCALM\")\n",
    "model_path"
   ]
  },
  {
   "cell_type": "markdown",
   "id": "cee0a96e-b185-4e2f-a8dd-75cbb086abfa",
   "metadata": {},
   "source": [
    "## Deploy Model"
   ]
  },
  {
   "cell_type": "code",
   "execution_count": 112,
   "id": "e8232665-f10e-4a74-84d6-d5c87640d1f2",
   "metadata": {
    "tags": []
   },
   "outputs": [
    {
     "name": "stdout",
     "output_type": "stream",
     "text": [
      "-!"
     ]
    }
   ],
   "source": [
    "from sagemaker.async_inference import AsyncInferenceConfig\n",
    "from sagemaker.serializers import JSONSerializer\n",
    "\n",
    "endpoint_name = \"OpenCALM2\"\n",
    "\n",
    "huggingface_model = PyTorchModel(\n",
    "    model_data=model_path,\n",
    "    framework_version=\"1.13\",\n",
    "    py_version='py39',\n",
    "    role=role,\n",
    "    name=endpoint_name,\n",
    "    env={\n",
    "        \"model_params\": json.dumps({\n",
    "            \"base_model\": \"cyberagent/open-calm-7b\",\n",
    "            \"lora_weights\": \"model\", # path relative to model package\n",
    "            \"peft\": True,\n",
    "            \"load_8bit\": False,\n",
    "            \"prompt_template\": \"alpaca\",\n",
    "        }),\n",
    "        \"SAGEMAKER_MODEL_SERVER_TIMEOUT\": \"3600\"\n",
    "    }\n",
    ")\n",
    "\n",
    "# deploy model to SageMaker Inference\n",
    "predictor = huggingface_model.deploy(\n",
    "    initial_instance_count=1,\n",
    "    instance_type='ml.g5.2xlarge',\n",
    "    endpoint_name=endpoint_name,\n",
    "    serializer=JSONSerializer(),\n",
    "    # async_inference_config=AsyncInferenceConfig()\n",
    ")"
   ]
  },
  {
   "cell_type": "markdown",
   "id": "fb4f6d9f-666d-40d6-b2c3-93ec553dded1",
   "metadata": {},
   "source": [
    "## Run Inference"
   ]
  },
  {
   "cell_type": "code",
   "execution_count": null,
   "id": "be982e42-166c-47fb-bc35-cc20ee6a5c4e",
   "metadata": {
    "tags": []
   },
   "outputs": [],
   "source": [
    "# With SageMaker SDK\n",
    "\n",
    "from sagemaker.predictor import Predictor\n",
    "from sagemaker.predictor_async import AsyncPredictor\n",
    "from sagemaker.serializers import JSONSerializer\n",
    "from sagemaker.deserializers import JSONDeserializer\n",
    "\n",
    "predictor_client = Predictor(\n",
    "    endpoint_name=endpoint_name,\n",
    "    sagemaker_session=sess,\n",
    "    serializer=JSONSerializer(),\n",
    "    deserializer=JSONDeserializer()\n",
    ")\n",
    "# predictor_client = AsyncPredictor(\n",
    "#     predictor=predictor_client,\n",
    "#     name=endpoint_name\n",
    "# )\n",
    "data = {\n",
    "    \"instruction\": \"ヴァージン・オーストラリアはいつから運航を開始したのですか？\",\n",
    "    \"input\": \"ヴァージン・オーストラリア航空（Virgin Australia Airlines Pty Ltd）の商号で、オーストラリアを拠点とする航空会社です。ヴァージン・ブランドを使用する航空会社の中で、保有機材数では最大の航空会社である。2000年8月31日にヴァージン・ブルーとして、2機の航空機で単一路線で運航を開始した[3]。2001年9月のアンセット・オーストラリアの破綻後、突然オーストラリア国内市場の大手航空会社としての地位を確立した。その後、ブリスベン、メルボルン、シドニーをハブとして、オーストラリア国内の32都市に直接乗り入れるまでに成長した[4]。\",\n",
    "    \"max_new_tokens\": 256,\n",
    "    \"temperature\": 0.3,\n",
    "    \"do_sample\": True,\n",
    "    \"pad_token_id\": 1,\n",
    "    \"bos_token_id\": 0,\n",
    "    \"eos_token_is\": 0,\n",
    "    # \"repetition_penalty\": 1.05,\n",
    "    # \"top_p\": 0.75,\n",
    "    # \"top_k\": 40,\n",
    "    # \"no_repeat_ngram_size\": 2,\n",
    "    \"stop_ids\": [1, 0],\n",
    "}\n",
    "response = predictor_client.predict(\n",
    "    data=data\n",
    ")\n",
    "print(response)"
   ]
  },
  {
   "cell_type": "code",
   "execution_count": null,
   "id": "94610911-2fa9-46c2-a619-dcf80b4f63da",
   "metadata": {
    "tags": []
   },
   "outputs": [],
   "source": [
    "# With Boto3\n",
    "\n",
    "import boto3\n",
    "import json\n",
    "\n",
    "endpoint_name = \"OpenCALM\"\n",
    "sagemaker_client = boto3.client('sagemaker-runtime')\n",
    "\n",
    "data = {\n",
    "    \"instruction\": \"ヴァージン・オーストラリアはいつから運航を開始したのですか？\",\n",
    "    \"input\": \"\"\"ヴァージン・オーストラリア航空（Virgin Australia Airlines Pty Ltd）の商号で、オーストラリアを拠点とする航空会社です。ヴァージン・ブランドを使用する航空会社の中で、保有機材数では最大の航空会社である。2000年8月31日にヴァージン・ブルーとして、2機の航空機で単一路線で運航を開始した[3]。2001年9月のアンセット・オーストラリアの破綻後、突然オーストラリア国内市場の大手航空会社としての地位を確立した。その後、ブリスベン、メルボルン、シドニーをハブとして、オーストラリア国内の32都市に直接乗り入れるまでに成長した[4]。\"\"\",\n",
    "    \"max_new_tokens\": 128,\n",
    "    \"temperature\": 0.7,\n",
    "    \"do_sample\": True,\n",
    "    \"pad_token_id\": 1,\n",
    "    \"bos_token_id\": 0,\n",
    "    \"eos_token_is\": 0,\n",
    "    # \"top_p\": 0.9,\n",
    "    # \"repetition_penalty\": 1.05,\n",
    "    \"stop_ids\": [50278, 50279, 50277, 1, 0],\n",
    "}\n",
    "\n",
    "response = sagemaker_client.invoke_endpoint(\n",
    "    EndpointName=endpoint_name,\n",
    "    ContentType='application/json',\n",
    "    Accept='application/json',\n",
    "    Body=json.dumps(data)\n",
    ")\n",
    "\n",
    "result = json.loads(response['Body'].read())\n",
    "print(result)"
   ]
  },
  {
   "cell_type": "code",
   "execution_count": null,
   "id": "c564f41a-7747-46f5-a7cb-7c8b01006ed5",
   "metadata": {
    "tags": []
   },
   "outputs": [],
   "source": [
    "data = {\n",
    "    \"instruction\": \"以下の記事によると、昨年生まれた子どもの数は何人でしょうか？\",\n",
    "    \"input\": \"\"\"1人の女性が生涯で出産する子どもの数を示す「合計特殊出生率」は去年1年間で「1.26」となり、過去最低となったことが分かりました。去年1年間に生まれた子どもの数も過去最少になっています。\n",
    "厚労省によりますと、2022年の合計特殊出生率は前の年から0.05ポイント下がって「1.26」でした。\n",
    "7年連続の減少で、これまでで最も低かった2005年と並び、過去最低となりました。\n",
    "また、去年1年間に生まれた子どもの数は前の年から4万人余り減って77万747人でした。\n",
    "子どもが生まれる数は第二次ベビーブームだった1973年以降、減少傾向が続いていて、統計を始めた1899年以来初めて80万人を下回り、過去最少となりました。\n",
    "一方、去年1年間に死亡した人は156万8961人で、前の年からおよそ12万9000人増え、過去最多となりました。\n",
    "その結果、死亡した人から生まれた子どもの数を差し引いた人口の減少幅は79万8214人で過去最大となり、人口の減少が加速しています。\n",
    "厚労省はその要因について、「新型コロナによる“出産控え”や死者数の増加などが影響した可能性がある」と推測しています。また、婚姻の件数は50万4878組で、3年ぶりの増加となりました。\"\"\".replace(\"\\n\", \"\"),\n",
    "    \"max_new_tokens\": 128,\n",
    "    \"temperature\": 0.7,\n",
    "    \"do_sample\": True,\n",
    "    \"pad_token_id\": 1,\n",
    "    \"bos_token_id\": 0,\n",
    "    \"eos_token_is\": 0,\n",
    "    \"repetition_penalty\": 1.05,\n",
    "    \"stop_ids\": [1, 0],\n",
    "}\n",
    "for i in range(10):\n",
    "    response = predictor_client.predict(\n",
    "        data=data\n",
    "    )\n",
    "    print(response)\n",
    "    print(\"---\")"
   ]
  },
  {
   "cell_type": "code",
   "execution_count": null,
   "id": "a40e3b01-726d-4137-b78f-e5de5cb5f313",
   "metadata": {
    "scrolled": true,
    "tags": []
   },
   "outputs": [],
   "source": [
    "def inference(instruction, input):\n",
    "    data = {\n",
    "        \"instruction\": instruction,\n",
    "        \"input\": input,\n",
    "        \"max_new_tokens\": 64,\n",
    "        \"temperature\": 0.1,\n",
    "        \"do_sample\": False,\n",
    "        \"num_beams\": 5,\n",
    "        \"pad_token_id\": 1,\n",
    "        \"bos_token_id\": 0,\n",
    "        \"eos_token_is\": 0,\n",
    "        # \"repetition_penalty\": 1.05,\n",
    "        \"stop_ids\": [1, 0],\n",
    "    }\n",
    "    response = predictor_client.predict(\n",
    "        data=data\n",
    "    )\n",
    "    return response\n",
    "\n",
    "import pandas as pd\n",
    "df = pd.read_json('data/aio_02_dev_v1.0.jsonl', orient='records', lines=True)\n",
    "correct = 0\n",
    "answers = []\n",
    "incorrect = []\n",
    "for idx, row in df.iterrows():\n",
    "    result = inference(row['question'], \"\")\n",
    "    answers += [result]\n",
    "    if result in row['answers']:\n",
    "        correct += 1\n",
    "    else:\n",
    "        print(result, row['answers'])\n",
    "        incorrect += [{ \"result\": result, \"answers\": row['answers']}]\n",
    "print(correct, \"/\", len(df))"
   ]
  },
  {
   "cell_type": "code",
   "execution_count": null,
   "id": "6b2ebd61-9365-4780-9b82-81764003e714",
   "metadata": {},
   "outputs": [],
   "source": []
  },
  {
   "cell_type": "code",
   "execution_count": null,
   "id": "d6771969-f309-4f25-b6b3-d9e23da3b704",
   "metadata": {
    "tags": []
   },
   "outputs": [],
   "source": [
    "df_train = pd.read_json('data/aio_02_train.jsonl', orient='records', lines=True)\n",
    "df_dev = pd.read_json('data/aio_02_dev_v1.0.jsonl', orient='records', lines=True)"
   ]
  },
  {
   "cell_type": "code",
   "execution_count": null,
   "id": "3195ae64-0bf0-4289-a5d9-6893525f2fc2",
   "metadata": {
    "scrolled": true,
    "tags": []
   },
   "outputs": [],
   "source": [
    "train_questions = set(df_train[\"original_question\"])\n",
    "dev_questions = set(df_dev[\"original_question\"])\n",
    "# Check intersection\n",
    "train_questions.intersection(dev_questions)\n",
    "\n",
    "train_answers = set(df_train[\"original_answer\"])\n",
    "dev_answers = set(df_dev[\"original_answer\"])\n",
    "# Check intersection\n",
    "print(len(train_answers.intersection(dev_answers)))\n",
    "common_answer_set = list(train_answers.intersection(dev_answers))\n",
    "common_answer = list(common_answer_set)\n",
    "for answer in common_answer[:10]:\n",
    "    print(answer)\n",
    "    print(df_train[df_train[\"original_answer\"] == answer][\"question\"])\n",
    "    print(df_dev[df_dev[\"original_answer\"] == answer][\"question\"])\n",
    "    print(\"---\")"
   ]
  },
  {
   "cell_type": "code",
   "execution_count": null,
   "id": "0f512410-98c0-44e6-a4a7-818588ace007",
   "metadata": {
    "tags": []
   },
   "outputs": [],
   "source": [
    "df = df_train[~df_train[\"original_answer\"].isin(common_answer_set)]\n",
    "df = df.rename(columns={\"question\": \"instruction\", \"answers\": \"output\"})\n",
    "df = df[[\"instruction\", \"output\"]]\n",
    "df[\"output\"] = df[\"output\"].apply(lambda x: x[0])\n",
    "df[\"input\"] = \"\"\n",
    "print(len(df))\n",
    "df.to_json(\"data/aio_02_train_filtered_formatted.jsonl\", orient='records', force_ascii=False, lines=True)"
   ]
  },
  {
   "cell_type": "code",
   "execution_count": null,
   "id": "d8c9be73-fca7-4f93-88e0-561df2abb780",
   "metadata": {
    "tags": []
   },
   "outputs": [],
   "source": [
    "!head data/aio_02_train_filtered_formatted.jsonl"
   ]
  },
  {
   "cell_type": "code",
   "execution_count": null,
   "id": "da5e8ca9-90f4-454c-b45e-b1a39f5aedb3",
   "metadata": {
    "tags": []
   },
   "outputs": [],
   "source": [
    "input_train = sess.upload_data(\n",
    "    path=\"./data/aio_02_train_filtered_formatted.jsonl\",\n",
    "    key_prefix=\"OpenCALM\"\n",
    ")\n",
    "input_train"
   ]
  },
  {
   "cell_type": "markdown",
   "id": "ae16c211-5f6a-4dc4-bbc3-b8f9b07666a0",
   "metadata": {},
   "source": [
    "## Benchmark Speed"
   ]
  },
  {
   "cell_type": "code",
   "execution_count": null,
   "id": "d1c9ddd3-76ee-4f71-8888-4ae51069a967",
   "metadata": {
    "tags": []
   },
   "outputs": [],
   "source": [
    "%timeit response = predictor_client.predict(data=data)"
   ]
  },
  {
   "cell_type": "markdown",
   "id": "39737593-7053-4dbb-b39b-112e27d228a1",
   "metadata": {},
   "source": [
    "## Delete Endpoint"
   ]
  },
  {
   "cell_type": "code",
   "execution_count": null,
   "id": "82559f16-10f8-4573-91d7-e0b85cb7d0de",
   "metadata": {
    "tags": []
   },
   "outputs": [],
   "source": [
    "predictor.delete_model()\n",
    "predictor.delete_endpoint()"
   ]
  },
  {
   "cell_type": "code",
   "execution_count": null,
   "id": "c75d2062-a88e-4c2f-97e9-8778ee231d29",
   "metadata": {},
   "outputs": [],
   "source": []
  }
 ],
 "metadata": {
  "availableInstances": [
   {
    "_defaultOrder": 0,
    "_isFastLaunch": true,
    "category": "General purpose",
    "gpuNum": 0,
    "hideHardwareSpecs": false,
    "memoryGiB": 4,
    "name": "ml.t3.medium",
    "vcpuNum": 2
   },
   {
    "_defaultOrder": 1,
    "_isFastLaunch": false,
    "category": "General purpose",
    "gpuNum": 0,
    "hideHardwareSpecs": false,
    "memoryGiB": 8,
    "name": "ml.t3.large",
    "vcpuNum": 2
   },
   {
    "_defaultOrder": 2,
    "_isFastLaunch": false,
    "category": "General purpose",
    "gpuNum": 0,
    "hideHardwareSpecs": false,
    "memoryGiB": 16,
    "name": "ml.t3.xlarge",
    "vcpuNum": 4
   },
   {
    "_defaultOrder": 3,
    "_isFastLaunch": false,
    "category": "General purpose",
    "gpuNum": 0,
    "hideHardwareSpecs": false,
    "memoryGiB": 32,
    "name": "ml.t3.2xlarge",
    "vcpuNum": 8
   },
   {
    "_defaultOrder": 4,
    "_isFastLaunch": true,
    "category": "General purpose",
    "gpuNum": 0,
    "hideHardwareSpecs": false,
    "memoryGiB": 8,
    "name": "ml.m5.large",
    "vcpuNum": 2
   },
   {
    "_defaultOrder": 5,
    "_isFastLaunch": false,
    "category": "General purpose",
    "gpuNum": 0,
    "hideHardwareSpecs": false,
    "memoryGiB": 16,
    "name": "ml.m5.xlarge",
    "vcpuNum": 4
   },
   {
    "_defaultOrder": 6,
    "_isFastLaunch": false,
    "category": "General purpose",
    "gpuNum": 0,
    "hideHardwareSpecs": false,
    "memoryGiB": 32,
    "name": "ml.m5.2xlarge",
    "vcpuNum": 8
   },
   {
    "_defaultOrder": 7,
    "_isFastLaunch": false,
    "category": "General purpose",
    "gpuNum": 0,
    "hideHardwareSpecs": false,
    "memoryGiB": 64,
    "name": "ml.m5.4xlarge",
    "vcpuNum": 16
   },
   {
    "_defaultOrder": 8,
    "_isFastLaunch": false,
    "category": "General purpose",
    "gpuNum": 0,
    "hideHardwareSpecs": false,
    "memoryGiB": 128,
    "name": "ml.m5.8xlarge",
    "vcpuNum": 32
   },
   {
    "_defaultOrder": 9,
    "_isFastLaunch": false,
    "category": "General purpose",
    "gpuNum": 0,
    "hideHardwareSpecs": false,
    "memoryGiB": 192,
    "name": "ml.m5.12xlarge",
    "vcpuNum": 48
   },
   {
    "_defaultOrder": 10,
    "_isFastLaunch": false,
    "category": "General purpose",
    "gpuNum": 0,
    "hideHardwareSpecs": false,
    "memoryGiB": 256,
    "name": "ml.m5.16xlarge",
    "vcpuNum": 64
   },
   {
    "_defaultOrder": 11,
    "_isFastLaunch": false,
    "category": "General purpose",
    "gpuNum": 0,
    "hideHardwareSpecs": false,
    "memoryGiB": 384,
    "name": "ml.m5.24xlarge",
    "vcpuNum": 96
   },
   {
    "_defaultOrder": 12,
    "_isFastLaunch": false,
    "category": "General purpose",
    "gpuNum": 0,
    "hideHardwareSpecs": false,
    "memoryGiB": 8,
    "name": "ml.m5d.large",
    "vcpuNum": 2
   },
   {
    "_defaultOrder": 13,
    "_isFastLaunch": false,
    "category": "General purpose",
    "gpuNum": 0,
    "hideHardwareSpecs": false,
    "memoryGiB": 16,
    "name": "ml.m5d.xlarge",
    "vcpuNum": 4
   },
   {
    "_defaultOrder": 14,
    "_isFastLaunch": false,
    "category": "General purpose",
    "gpuNum": 0,
    "hideHardwareSpecs": false,
    "memoryGiB": 32,
    "name": "ml.m5d.2xlarge",
    "vcpuNum": 8
   },
   {
    "_defaultOrder": 15,
    "_isFastLaunch": false,
    "category": "General purpose",
    "gpuNum": 0,
    "hideHardwareSpecs": false,
    "memoryGiB": 64,
    "name": "ml.m5d.4xlarge",
    "vcpuNum": 16
   },
   {
    "_defaultOrder": 16,
    "_isFastLaunch": false,
    "category": "General purpose",
    "gpuNum": 0,
    "hideHardwareSpecs": false,
    "memoryGiB": 128,
    "name": "ml.m5d.8xlarge",
    "vcpuNum": 32
   },
   {
    "_defaultOrder": 17,
    "_isFastLaunch": false,
    "category": "General purpose",
    "gpuNum": 0,
    "hideHardwareSpecs": false,
    "memoryGiB": 192,
    "name": "ml.m5d.12xlarge",
    "vcpuNum": 48
   },
   {
    "_defaultOrder": 18,
    "_isFastLaunch": false,
    "category": "General purpose",
    "gpuNum": 0,
    "hideHardwareSpecs": false,
    "memoryGiB": 256,
    "name": "ml.m5d.16xlarge",
    "vcpuNum": 64
   },
   {
    "_defaultOrder": 19,
    "_isFastLaunch": false,
    "category": "General purpose",
    "gpuNum": 0,
    "hideHardwareSpecs": false,
    "memoryGiB": 384,
    "name": "ml.m5d.24xlarge",
    "vcpuNum": 96
   },
   {
    "_defaultOrder": 20,
    "_isFastLaunch": false,
    "category": "General purpose",
    "gpuNum": 0,
    "hideHardwareSpecs": true,
    "memoryGiB": 0,
    "name": "ml.geospatial.interactive",
    "supportedImageNames": [
     "sagemaker-geospatial-v1-0"
    ],
    "vcpuNum": 0
   },
   {
    "_defaultOrder": 21,
    "_isFastLaunch": true,
    "category": "Compute optimized",
    "gpuNum": 0,
    "hideHardwareSpecs": false,
    "memoryGiB": 4,
    "name": "ml.c5.large",
    "vcpuNum": 2
   },
   {
    "_defaultOrder": 22,
    "_isFastLaunch": false,
    "category": "Compute optimized",
    "gpuNum": 0,
    "hideHardwareSpecs": false,
    "memoryGiB": 8,
    "name": "ml.c5.xlarge",
    "vcpuNum": 4
   },
   {
    "_defaultOrder": 23,
    "_isFastLaunch": false,
    "category": "Compute optimized",
    "gpuNum": 0,
    "hideHardwareSpecs": false,
    "memoryGiB": 16,
    "name": "ml.c5.2xlarge",
    "vcpuNum": 8
   },
   {
    "_defaultOrder": 24,
    "_isFastLaunch": false,
    "category": "Compute optimized",
    "gpuNum": 0,
    "hideHardwareSpecs": false,
    "memoryGiB": 32,
    "name": "ml.c5.4xlarge",
    "vcpuNum": 16
   },
   {
    "_defaultOrder": 25,
    "_isFastLaunch": false,
    "category": "Compute optimized",
    "gpuNum": 0,
    "hideHardwareSpecs": false,
    "memoryGiB": 72,
    "name": "ml.c5.9xlarge",
    "vcpuNum": 36
   },
   {
    "_defaultOrder": 26,
    "_isFastLaunch": false,
    "category": "Compute optimized",
    "gpuNum": 0,
    "hideHardwareSpecs": false,
    "memoryGiB": 96,
    "name": "ml.c5.12xlarge",
    "vcpuNum": 48
   },
   {
    "_defaultOrder": 27,
    "_isFastLaunch": false,
    "category": "Compute optimized",
    "gpuNum": 0,
    "hideHardwareSpecs": false,
    "memoryGiB": 144,
    "name": "ml.c5.18xlarge",
    "vcpuNum": 72
   },
   {
    "_defaultOrder": 28,
    "_isFastLaunch": false,
    "category": "Compute optimized",
    "gpuNum": 0,
    "hideHardwareSpecs": false,
    "memoryGiB": 192,
    "name": "ml.c5.24xlarge",
    "vcpuNum": 96
   },
   {
    "_defaultOrder": 29,
    "_isFastLaunch": true,
    "category": "Accelerated computing",
    "gpuNum": 1,
    "hideHardwareSpecs": false,
    "memoryGiB": 16,
    "name": "ml.g4dn.xlarge",
    "vcpuNum": 4
   },
   {
    "_defaultOrder": 30,
    "_isFastLaunch": false,
    "category": "Accelerated computing",
    "gpuNum": 1,
    "hideHardwareSpecs": false,
    "memoryGiB": 32,
    "name": "ml.g4dn.2xlarge",
    "vcpuNum": 8
   },
   {
    "_defaultOrder": 31,
    "_isFastLaunch": false,
    "category": "Accelerated computing",
    "gpuNum": 1,
    "hideHardwareSpecs": false,
    "memoryGiB": 64,
    "name": "ml.g4dn.4xlarge",
    "vcpuNum": 16
   },
   {
    "_defaultOrder": 32,
    "_isFastLaunch": false,
    "category": "Accelerated computing",
    "gpuNum": 1,
    "hideHardwareSpecs": false,
    "memoryGiB": 128,
    "name": "ml.g4dn.8xlarge",
    "vcpuNum": 32
   },
   {
    "_defaultOrder": 33,
    "_isFastLaunch": false,
    "category": "Accelerated computing",
    "gpuNum": 4,
    "hideHardwareSpecs": false,
    "memoryGiB": 192,
    "name": "ml.g4dn.12xlarge",
    "vcpuNum": 48
   },
   {
    "_defaultOrder": 34,
    "_isFastLaunch": false,
    "category": "Accelerated computing",
    "gpuNum": 1,
    "hideHardwareSpecs": false,
    "memoryGiB": 256,
    "name": "ml.g4dn.16xlarge",
    "vcpuNum": 64
   },
   {
    "_defaultOrder": 35,
    "_isFastLaunch": false,
    "category": "Accelerated computing",
    "gpuNum": 1,
    "hideHardwareSpecs": false,
    "memoryGiB": 61,
    "name": "ml.p3.2xlarge",
    "vcpuNum": 8
   },
   {
    "_defaultOrder": 36,
    "_isFastLaunch": false,
    "category": "Accelerated computing",
    "gpuNum": 4,
    "hideHardwareSpecs": false,
    "memoryGiB": 244,
    "name": "ml.p3.8xlarge",
    "vcpuNum": 32
   },
   {
    "_defaultOrder": 37,
    "_isFastLaunch": false,
    "category": "Accelerated computing",
    "gpuNum": 8,
    "hideHardwareSpecs": false,
    "memoryGiB": 488,
    "name": "ml.p3.16xlarge",
    "vcpuNum": 64
   },
   {
    "_defaultOrder": 38,
    "_isFastLaunch": false,
    "category": "Accelerated computing",
    "gpuNum": 8,
    "hideHardwareSpecs": false,
    "memoryGiB": 768,
    "name": "ml.p3dn.24xlarge",
    "vcpuNum": 96
   },
   {
    "_defaultOrder": 39,
    "_isFastLaunch": false,
    "category": "Memory Optimized",
    "gpuNum": 0,
    "hideHardwareSpecs": false,
    "memoryGiB": 16,
    "name": "ml.r5.large",
    "vcpuNum": 2
   },
   {
    "_defaultOrder": 40,
    "_isFastLaunch": false,
    "category": "Memory Optimized",
    "gpuNum": 0,
    "hideHardwareSpecs": false,
    "memoryGiB": 32,
    "name": "ml.r5.xlarge",
    "vcpuNum": 4
   },
   {
    "_defaultOrder": 41,
    "_isFastLaunch": false,
    "category": "Memory Optimized",
    "gpuNum": 0,
    "hideHardwareSpecs": false,
    "memoryGiB": 64,
    "name": "ml.r5.2xlarge",
    "vcpuNum": 8
   },
   {
    "_defaultOrder": 42,
    "_isFastLaunch": false,
    "category": "Memory Optimized",
    "gpuNum": 0,
    "hideHardwareSpecs": false,
    "memoryGiB": 128,
    "name": "ml.r5.4xlarge",
    "vcpuNum": 16
   },
   {
    "_defaultOrder": 43,
    "_isFastLaunch": false,
    "category": "Memory Optimized",
    "gpuNum": 0,
    "hideHardwareSpecs": false,
    "memoryGiB": 256,
    "name": "ml.r5.8xlarge",
    "vcpuNum": 32
   },
   {
    "_defaultOrder": 44,
    "_isFastLaunch": false,
    "category": "Memory Optimized",
    "gpuNum": 0,
    "hideHardwareSpecs": false,
    "memoryGiB": 384,
    "name": "ml.r5.12xlarge",
    "vcpuNum": 48
   },
   {
    "_defaultOrder": 45,
    "_isFastLaunch": false,
    "category": "Memory Optimized",
    "gpuNum": 0,
    "hideHardwareSpecs": false,
    "memoryGiB": 512,
    "name": "ml.r5.16xlarge",
    "vcpuNum": 64
   },
   {
    "_defaultOrder": 46,
    "_isFastLaunch": false,
    "category": "Memory Optimized",
    "gpuNum": 0,
    "hideHardwareSpecs": false,
    "memoryGiB": 768,
    "name": "ml.r5.24xlarge",
    "vcpuNum": 96
   },
   {
    "_defaultOrder": 47,
    "_isFastLaunch": false,
    "category": "Accelerated computing",
    "gpuNum": 1,
    "hideHardwareSpecs": false,
    "memoryGiB": 16,
    "name": "ml.g5.xlarge",
    "vcpuNum": 4
   },
   {
    "_defaultOrder": 48,
    "_isFastLaunch": false,
    "category": "Accelerated computing",
    "gpuNum": 1,
    "hideHardwareSpecs": false,
    "memoryGiB": 32,
    "name": "ml.g5.2xlarge",
    "vcpuNum": 8
   },
   {
    "_defaultOrder": 49,
    "_isFastLaunch": false,
    "category": "Accelerated computing",
    "gpuNum": 1,
    "hideHardwareSpecs": false,
    "memoryGiB": 64,
    "name": "ml.g5.4xlarge",
    "vcpuNum": 16
   },
   {
    "_defaultOrder": 50,
    "_isFastLaunch": false,
    "category": "Accelerated computing",
    "gpuNum": 1,
    "hideHardwareSpecs": false,
    "memoryGiB": 128,
    "name": "ml.g5.8xlarge",
    "vcpuNum": 32
   },
   {
    "_defaultOrder": 51,
    "_isFastLaunch": false,
    "category": "Accelerated computing",
    "gpuNum": 1,
    "hideHardwareSpecs": false,
    "memoryGiB": 256,
    "name": "ml.g5.16xlarge",
    "vcpuNum": 64
   },
   {
    "_defaultOrder": 52,
    "_isFastLaunch": false,
    "category": "Accelerated computing",
    "gpuNum": 4,
    "hideHardwareSpecs": false,
    "memoryGiB": 192,
    "name": "ml.g5.12xlarge",
    "vcpuNum": 48
   },
   {
    "_defaultOrder": 53,
    "_isFastLaunch": false,
    "category": "Accelerated computing",
    "gpuNum": 4,
    "hideHardwareSpecs": false,
    "memoryGiB": 384,
    "name": "ml.g5.24xlarge",
    "vcpuNum": 96
   },
   {
    "_defaultOrder": 54,
    "_isFastLaunch": false,
    "category": "Accelerated computing",
    "gpuNum": 8,
    "hideHardwareSpecs": false,
    "memoryGiB": 768,
    "name": "ml.g5.48xlarge",
    "vcpuNum": 192
   },
   {
    "_defaultOrder": 55,
    "_isFastLaunch": false,
    "category": "Accelerated computing",
    "gpuNum": 8,
    "hideHardwareSpecs": false,
    "memoryGiB": 1152,
    "name": "ml.p4d.24xlarge",
    "vcpuNum": 96
   },
   {
    "_defaultOrder": 56,
    "_isFastLaunch": false,
    "category": "Accelerated computing",
    "gpuNum": 8,
    "hideHardwareSpecs": false,
    "memoryGiB": 1152,
    "name": "ml.p4de.24xlarge",
    "vcpuNum": 96
   }
  ],
  "instance_type": "ml.t3.medium",
  "kernelspec": {
   "display_name": "Python 3 (Data Science 3.0)",
   "language": "python",
   "name": "python3__SAGEMAKER_INTERNAL__arn:aws:sagemaker:us-east-1:081325390199:image/sagemaker-data-science-310-v1"
  },
  "language_info": {
   "codemirror_mode": {
    "name": "ipython",
    "version": 3
   },
   "file_extension": ".py",
   "mimetype": "text/x-python",
   "name": "python",
   "nbconvert_exporter": "python",
   "pygments_lexer": "ipython3",
   "version": "3.10.6"
  }
 },
 "nbformat": 4,
 "nbformat_minor": 5
}
