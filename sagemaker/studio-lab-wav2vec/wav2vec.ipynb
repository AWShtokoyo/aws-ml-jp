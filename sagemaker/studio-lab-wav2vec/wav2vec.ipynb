{
 "cells": [
  {
   "cell_type": "markdown",
   "id": "fb457992-5926-4ad4-986a-944cd5d7411a",
   "metadata": {},
   "source": [
    "## 音声認識モデル Wav2Vec を SageMaker 上でデプロイして試してみる\n",
    "\n"
   ]
  },
  {
   "cell_type": "markdown",
   "id": "f415f405-ea03-4ad3-af0c-bae046e96400",
   "metadata": {},
   "source": [
    "本チュートリアルでは、音声認識モデルの１つである wav2vec2 のモデルを Studio Lab 経由で、AWS 環境上にデプロイする流れを体験してみます。  \n",
    "Amazon SageMaker 上で Hugging Face Inference DLC を使って MetaAI の [wav2vec2](https://arxiv.org/abs/2006.11477) モデルを手軽に利用することが可能です。  \n",
    "\n",
    "このサンプルでは、\n",
    "- Studio Lab 上で Amazon SageMaker の機能を利用する設定を行う\n",
    "- Studio Lab 経由で Amazon SageMaker 上に `transformers` のモデルをデプロイする\n",
    "- デプロイしたモデルに対して音声ファイルを投げて推論させてみる\n",
    "\n",
    "の３つをおこなっていきます。  \n",
    "なお、このサンプルは [Automatic Speech Recogntion with Hugging Face's Transformers & Amazon SageMaker](https://github.com/huggingface/notebooks/blob/main/sagemaker/20_automatic_speech_recognition_inference/sagemaker-notebook.ipynb) をベースに作成しています。"
   ]
  },
  {
   "cell_type": "markdown",
   "id": "742c9146-bd9e-43b1-94e3-ee47eca24d96",
   "metadata": {
    "tags": []
   },
   "source": [
    "## 環境のセットアップ\n",
    "\n",
    "\n",
    "下記のハンズオン資料の「2-2. AWS へ接続するための環境構築」「2-3. SageMaker Training Instance が利用する IAM ロールを作成する」で紹介されている手順とほぼ同じです。  \n",
    "\n",
    "- https://github.com/aws-samples/aws-ml-enablement-workshop/blob/main/notebooks/scenario_churn/customer_churn_sagemaker.ipynb "
   ]
  },
  {
   "cell_type": "markdown",
   "id": "d7102577-c9e3-4c00-b7c1-d853bc71ae63",
   "metadata": {},
   "source": [
    "### モジュールのインストール\n",
    "\n",
    "インストールが完了したら、カーネルを再起動することを忘れないでください。  "
   ]
  },
  {
   "cell_type": "code",
   "execution_count": 1,
   "id": "9fe16419-878f-4f18-8b7d-b321b1f96726",
   "metadata": {
    "collapsed": true,
    "jupyter": {
     "outputs_hidden": true
    },
    "tags": []
   },
   "outputs": [
    {
     "name": "stdout",
     "output_type": "stream",
     "text": [
      "Requirement already satisfied: boto3 in /home/studio-lab-user/.conda/envs/default/lib/python3.9/site-packages (1.26.2)\n",
      "Requirement already satisfied: jmespath<2.0.0,>=0.7.1 in /home/studio-lab-user/.conda/envs/default/lib/python3.9/site-packages (from boto3) (0.10.0)\n",
      "Requirement already satisfied: botocore<1.30.0,>=1.29.2 in /home/studio-lab-user/.conda/envs/default/lib/python3.9/site-packages (from boto3) (1.29.2)\n",
      "Requirement already satisfied: s3transfer<0.7.0,>=0.6.0 in /home/studio-lab-user/.conda/envs/default/lib/python3.9/site-packages (from boto3) (0.6.0)\n",
      "Requirement already satisfied: python-dateutil<3.0.0,>=2.1 in /home/studio-lab-user/.conda/envs/default/lib/python3.9/site-packages (from botocore<1.30.0,>=1.29.2->boto3) (2.8.2)\n",
      "Requirement already satisfied: urllib3<1.27,>=1.25.4 in /home/studio-lab-user/.conda/envs/default/lib/python3.9/site-packages (from botocore<1.30.0,>=1.29.2->boto3) (1.26.7)\n",
      "Requirement already satisfied: six>=1.5 in /home/studio-lab-user/.conda/envs/default/lib/python3.9/site-packages (from python-dateutil<3.0.0,>=2.1->botocore<1.30.0,>=1.29.2->boto3) (1.16.0)\n",
      "\u001b[33mWARNING: You are using pip version 21.3.1; however, version 22.3 is available.\n",
      "You should consider upgrading via the '/home/studio-lab-user/.conda/envs/default/bin/python -m pip install --upgrade pip' command.\u001b[0m\n",
      "Requirement already satisfied: sagemaker in /home/studio-lab-user/.conda/envs/default/lib/python3.9/site-packages (2.116.0)\n",
      "Requirement already satisfied: schema in /home/studio-lab-user/.conda/envs/default/lib/python3.9/site-packages (from sagemaker) (0.7.5)\n",
      "Requirement already satisfied: google-pasta in /home/studio-lab-user/.conda/envs/default/lib/python3.9/site-packages (from sagemaker) (0.2.0)\n",
      "Requirement already satisfied: protobuf<4.0,>=3.1 in /home/studio-lab-user/.conda/envs/default/lib/python3.9/site-packages (from sagemaker) (3.19.1)\n",
      "Requirement already satisfied: importlib-metadata<5.0,>=1.4.0 in /home/studio-lab-user/.conda/envs/default/lib/python3.9/site-packages (from sagemaker) (4.8.2)\n",
      "Requirement already satisfied: attrs<23,>=20.3.0 in /home/studio-lab-user/.conda/envs/default/lib/python3.9/site-packages (from sagemaker) (21.2.0)\n",
      "Requirement already satisfied: protobuf3-to-dict<1.0,>=0.1.5 in /home/studio-lab-user/.conda/envs/default/lib/python3.9/site-packages (from sagemaker) (0.1.5)\n",
      "Requirement already satisfied: boto3<2.0,>=1.20.21 in /home/studio-lab-user/.conda/envs/default/lib/python3.9/site-packages (from sagemaker) (1.26.2)\n",
      "Requirement already satisfied: numpy<2.0,>=1.9.0 in /home/studio-lab-user/.conda/envs/default/lib/python3.9/site-packages (from sagemaker) (1.19.5)\n",
      "Requirement already satisfied: packaging>=20.0 in /home/studio-lab-user/.conda/envs/default/lib/python3.9/site-packages (from sagemaker) (21.3)\n",
      "Requirement already satisfied: pathos in /home/studio-lab-user/.conda/envs/default/lib/python3.9/site-packages (from sagemaker) (0.2.8)\n",
      "Requirement already satisfied: smdebug-rulesconfig==1.0.1 in /home/studio-lab-user/.conda/envs/default/lib/python3.9/site-packages (from sagemaker) (1.0.1)\n",
      "Requirement already satisfied: pandas in /home/studio-lab-user/.conda/envs/default/lib/python3.9/site-packages (from sagemaker) (1.1.5)\n",
      "Requirement already satisfied: botocore<1.30.0,>=1.29.2 in /home/studio-lab-user/.conda/envs/default/lib/python3.9/site-packages (from boto3<2.0,>=1.20.21->sagemaker) (1.29.2)\n",
      "Requirement already satisfied: s3transfer<0.7.0,>=0.6.0 in /home/studio-lab-user/.conda/envs/default/lib/python3.9/site-packages (from boto3<2.0,>=1.20.21->sagemaker) (0.6.0)\n",
      "Requirement already satisfied: jmespath<2.0.0,>=0.7.1 in /home/studio-lab-user/.conda/envs/default/lib/python3.9/site-packages (from boto3<2.0,>=1.20.21->sagemaker) (0.10.0)\n",
      "Requirement already satisfied: zipp>=0.5 in /home/studio-lab-user/.conda/envs/default/lib/python3.9/site-packages (from importlib-metadata<5.0,>=1.4.0->sagemaker) (3.6.0)\n",
      "Requirement already satisfied: pyparsing!=3.0.5,>=2.0.2 in /home/studio-lab-user/.conda/envs/default/lib/python3.9/site-packages (from packaging>=20.0->sagemaker) (3.0.6)\n",
      "Requirement already satisfied: six in /home/studio-lab-user/.conda/envs/default/lib/python3.9/site-packages (from protobuf3-to-dict<1.0,>=0.1.5->sagemaker) (1.16.0)\n",
      "Requirement already satisfied: python-dateutil>=2.7.3 in /home/studio-lab-user/.conda/envs/default/lib/python3.9/site-packages (from pandas->sagemaker) (2.8.2)\n",
      "Requirement already satisfied: pytz>=2017.2 in /home/studio-lab-user/.conda/envs/default/lib/python3.9/site-packages (from pandas->sagemaker) (2021.3)\n",
      "Requirement already satisfied: dill>=0.3.4 in /home/studio-lab-user/.conda/envs/default/lib/python3.9/site-packages (from pathos->sagemaker) (0.3.4)\n",
      "Requirement already satisfied: pox>=0.3.0 in /home/studio-lab-user/.conda/envs/default/lib/python3.9/site-packages (from pathos->sagemaker) (0.3.0)\n",
      "Requirement already satisfied: multiprocess>=0.70.12 in /home/studio-lab-user/.conda/envs/default/lib/python3.9/site-packages (from pathos->sagemaker) (0.70.12.2)\n",
      "Requirement already satisfied: ppft>=1.6.6.4 in /home/studio-lab-user/.conda/envs/default/lib/python3.9/site-packages (from pathos->sagemaker) (1.6.6.4)\n",
      "Requirement already satisfied: contextlib2>=0.5.5 in /home/studio-lab-user/.conda/envs/default/lib/python3.9/site-packages (from schema->sagemaker) (21.6.0)\n",
      "Requirement already satisfied: urllib3<1.27,>=1.25.4 in /home/studio-lab-user/.conda/envs/default/lib/python3.9/site-packages (from botocore<1.30.0,>=1.29.2->boto3<2.0,>=1.20.21->sagemaker) (1.26.7)\n",
      "\u001b[33mWARNING: You are using pip version 21.3.1; however, version 22.3 is available.\n",
      "You should consider upgrading via the '/home/studio-lab-user/.conda/envs/default/bin/python -m pip install --upgrade pip' command.\u001b[0m\n",
      "Requirement already satisfied: transformers in /home/studio-lab-user/.conda/envs/default/lib/python3.9/site-packages (4.24.0)\n",
      "Requirement already satisfied: packaging>=20.0 in /home/studio-lab-user/.conda/envs/default/lib/python3.9/site-packages (from transformers) (21.3)\n",
      "Requirement already satisfied: filelock in /home/studio-lab-user/.conda/envs/default/lib/python3.9/site-packages (from transformers) (3.4.0)\n",
      "Requirement already satisfied: tqdm>=4.27 in /home/studio-lab-user/.conda/envs/default/lib/python3.9/site-packages (from transformers) (4.64.1)\n",
      "Requirement already satisfied: pyyaml>=5.1 in /home/studio-lab-user/.conda/envs/default/lib/python3.9/site-packages (from transformers) (6.0)\n",
      "Requirement already satisfied: huggingface-hub<1.0,>=0.10.0 in /home/studio-lab-user/.conda/envs/default/lib/python3.9/site-packages (from transformers) (0.10.1)\n",
      "Requirement already satisfied: numpy>=1.17 in /home/studio-lab-user/.conda/envs/default/lib/python3.9/site-packages (from transformers) (1.19.5)\n",
      "Requirement already satisfied: regex!=2019.12.17 in /home/studio-lab-user/.conda/envs/default/lib/python3.9/site-packages (from transformers) (2021.11.10)\n",
      "Requirement already satisfied: requests in /home/studio-lab-user/.conda/envs/default/lib/python3.9/site-packages (from transformers) (2.26.0)\n",
      "Requirement already satisfied: tokenizers!=0.11.3,<0.14,>=0.11.1 in /home/studio-lab-user/.conda/envs/default/lib/python3.9/site-packages (from transformers) (0.13.1)\n",
      "Requirement already satisfied: typing-extensions>=3.7.4.3 in /home/studio-lab-user/.conda/envs/default/lib/python3.9/site-packages (from huggingface-hub<1.0,>=0.10.0->transformers) (4.0.1)\n",
      "Requirement already satisfied: pyparsing!=3.0.5,>=2.0.2 in /home/studio-lab-user/.conda/envs/default/lib/python3.9/site-packages (from packaging>=20.0->transformers) (3.0.6)\n",
      "Requirement already satisfied: idna<4,>=2.5 in /home/studio-lab-user/.conda/envs/default/lib/python3.9/site-packages (from requests->transformers) (3.3)\n",
      "Requirement already satisfied: certifi>=2017.4.17 in /home/studio-lab-user/.conda/envs/default/lib/python3.9/site-packages (from requests->transformers) (2021.10.8)\n",
      "Requirement already satisfied: charset-normalizer~=2.0.0 in /home/studio-lab-user/.conda/envs/default/lib/python3.9/site-packages (from requests->transformers) (2.0.8)\n",
      "Requirement already satisfied: urllib3<1.27,>=1.21.1 in /home/studio-lab-user/.conda/envs/default/lib/python3.9/site-packages (from requests->transformers) (1.26.7)\n",
      "\u001b[33mWARNING: You are using pip version 21.3.1; however, version 22.3 is available.\n",
      "You should consider upgrading via the '/home/studio-lab-user/.conda/envs/default/bin/python -m pip install --upgrade pip' command.\u001b[0m\n"
     ]
    }
   ],
   "source": [
    "!pip install -U boto3\n",
    "!pip install -U sagemaker\n",
    "!pip install -U transformers"
   ]
  },
  {
   "cell_type": "markdown",
   "id": "9125d292-4432-4c86-bfa9-80bb7c78dca0",
   "metadata": {
    "tags": []
   },
   "source": [
    "\n",
    "### IAM ユーザーの作成と認証情報の設定\n",
    "今回のサンプルでは、Studio Lab で動かしている Notebook 上ではなく AWS 環境上で Whisper をデプロイして使い方を確かめてみます。そのためには、Notebook から AWS 環境にアクセスする必要があるためその認証情報をこれから設定します。\n",
    "\n",
    "IAM ユーザーを作成し、そこから得られるアクセスキーとシークレットキーを登録します。"
   ]
  },
  {
   "cell_type": "markdown",
   "id": "ce65ec6c-73d8-4edd-afd1-e0ce6bb2afa6",
   "metadata": {
    "tags": []
   },
   "source": [
    "まずは、AWS のコンソール画面を開いて左上の検索窓で「IAM」と検索します。トップに出てくる IAM をクリックして IAM のサービスページを開きます。\n",
    "\n",
    "![](./imgs/001_IAM_search.png)\n",
    "\n",
    "左側メニューから、「ユーザー」をクリックして IAM ユーザーの設定画面に遷移します。\n",
    "\n",
    "![](./imgs/002_IAM_user.png)\n",
    "\n",
    "次に、「ユーザーを追加」をクリックしてユーザーの作成を開始します。\n",
    "\n",
    "![](./imgs/003_user_create.png)\n",
    "\n",
    "ユーザー名に「whisper-sample-user」（他の名称でも大丈夫です）、「アクセスキー - プログラムによるアクセス」にチェックをつけます。\n",
    "\n",
    "![](./imgs/004_user_info.png)\n",
    "\n",
    "「次のステップ」をクリックします。  \n",
    "その後「既存のポリシーを直接アタッチ」を選択し、ポリシーの検索で「SageMakerFullAccess」と入力します。そうすると「AWSSageMakerFullAccess」のポリシー候補が現れるのでこれを選択します。\n",
    "\n",
    "![](./imgs/005_user_policy.png)\n",
    "\n",
    "次に、検索窓に「PowerUserAccess」と検索し候補に出てきた「PowerUserAccess」を選択します。  \n",
    "\n",
    "![](./imgs/006_user_poweruseraccess.png)\n",
    "\n",
    "「次のステップ」をクリックするとタグの設定画面が出てきますが、ここは特に入力せずにスキップします。  \n",
    "\n",
    "これまでに設定した項目の確認ページが出てくるので問題なければ「ユーザーの作成」をクリックします。\n",
    "\n",
    "![](./imgs/007_user_confirmation.png)  \n",
    "\n",
    "無事ユーザーが作成されるとユーザーキーとシークレットキーが表示されるのでメモに残しておきます。これらの情報を使って Studio Lab 経由で AWS 環境にアクセスを行います。  \n",
    "**ここで取得されるクレデンシャル情報の扱いには十分注意してください**。\n",
    "\n",
    "![](./imgs/008_user_credentials.png)\n"
   ]
  },
  {
   "cell_type": "markdown",
   "id": "9dadf6c3-538b-4a45-9c2c-3731fca3d10f",
   "metadata": {
    "tags": []
   },
   "source": [
    "次に、 Studio Lab の画面に戻って先ほど取得したアクセスキーなどの情報を登録していきます。  \n",
    "\n",
    "画面上部のメニューから 「File -> New -> Terminal」 と選択してターミナルの起動をします。  \n",
    "![](./imgs/009_start_terminal.png)\n",
    "\n",
    "開かれたターミナルで `aws configure` を実行します。\n",
    "そこでアクセスキーとシークレットキーを聞かれるので先ほどメモした値を入力します。  \n",
    "\n",
    "![](./imgs/010_aws_configure.png)\n"
   ]
  },
  {
   "cell_type": "markdown",
   "id": "2c7125d1-f5be-4077-8bb7-c1cabcb15f99",
   "metadata": {
    "tags": []
   },
   "source": [
    "### SageMaker Inference Instance が使用する IAM ロールを作成する\n",
    "\n",
    "今度は、SageMaker 側でモデルをデプロイする際にデプロイされたインスタンスに付与される IAM ロールを作成します。  \n",
    "\n",
    "\n",
    "AWS のコンソール画面に戻ります。  \n",
    "先ほどと同様の手順で IAM のサービス画面を開き、「ロール」を左側のメニューから選択します。 \n",
    "IAM ロールの画面が開かれたら「ロールの作成」ボタンをクリックします。  \n",
    "\n",
    "![](./imgs/011_role_create.png)  \n",
    "\n",
    "ロールの作成画面が表示されたら信頼されるエンティティタプとして「AWS のサービス」を選択し、ユースケースのところは下の検索欄から「SageMaker」などと検索して SageMaker を選択します。\n",
    "\n",
    "![](./imgs/012_role_entity.png)\n",
    "\n",
    "「次へ」をクリックし、「AmazonSageMakerFullAccess」のポリシーがアタッチされていることを確認します。  \n",
    "\n",
    "![](./imgs/013_role_policy.png)\n",
    "\n",
    "「次へ」をクリックし、Role 名を設定します。「StudioLabWhisperExecutionRole」と入力し、他の項目はいじらずに「ロールを作成」をクリックします。\n",
    "\n",
    "![](./imgs/014_role_name.png)\n",
    "\n",
    "作成した IAM ロールのリソースネームである ARN を取得します。  \n",
    "IAM ロールの画面から、検索欄で「StudioLabWhisper」などと入力して先ほど作成した IAM ロールを探して選択します。  \n",
    "\n",
    "![](./imgs/015_role_search.png)  \n",
    "\n",
    "IAM ロールの詳細情報が表示されるので、ARN の隣にあるコピーボタンをクリックして ARN をコピーします。\n",
    "![](./imgs/016_role_arn_copy.png)  \n",
    "\n",
    "コピペした値を置き換えて role の値を設定します。"
   ]
  },
  {
   "cell_type": "code",
   "execution_count": 1,
   "id": "12110312-6048-48bd-abfd-0806ca64e17a",
   "metadata": {},
   "outputs": [],
   "source": [
    "role = \"arn:aws:iam::000000000000:role/StudioLabWhisperExecutionRole\"  # TODO: コピペした値で置き換える"
   ]
  },
  {
   "cell_type": "markdown",
   "id": "4e272c23-d3b3-47de-8aac-c7955660263d",
   "metadata": {
    "tags": []
   },
   "source": [
    "## Wav2Vec のデプロイ\n",
    "\n",
    "まずは、 SageMaker SDK の HuggingFace 拡張を使って簡単にモデルをデプロイしてみましょう。  \n",
    "以下のページで公開されている「wav2vec2-large-960h」と呼ばれているモデルを使っていきます。  \n",
    "\n",
    "- https://huggingface.co/facebook/wav2vec2-large-960h\n",
    "\n",
    "この HuggingFace のページ上で SageMaker でモデルをデプロイするためのコードを手軽に生成できます。  \n",
    "\n",
    "まずは、ページにある「Deploy」ボタンをクリックします。  \n",
    "\n",
    "![](./imgs/101_wav2vec_deploy_button.png)\n",
    "\n",
    "いくつかデプロイの選択肢が出てくるので今回は「Amazon SageMaker」を選択します。  \n",
    "\n",
    "![](./imgs/102_wav2vec_deploy_select_sagemaker.png)\n",
    "\n",
    "Task を「Automatic Speech Recognition」、Configuration を「AWS」に設定すると deploy 用のコードが生成されます。  \n",
    "\n",
    "![](./imgs/103_wav2vec_deploy_generate_code.png)\n",
    "\n"
   ]
  },
  {
   "cell_type": "markdown",
   "id": "2215719b-ea07-46e7-b65e-b93086b73873",
   "metadata": {},
   "source": [
    "コピーしたコードはデプロイのコードと推論のコードが含まれています。  \n",
    "このままでは動かないため、audio_serializer の追加や IAM Role 部分のコメントアウトなどをする必要があります。  \n",
    "\n",
    "ここで使用している `DataSerializer` は推論リクエストの際に、音声ファイルをリクエストする手順を簡易化してくれます。  \n",
    "\n",
    "\n",
    "注意！！！  \n",
    "**以下のコードを実行すると、SageMaker 上でエンドポイントがデプロイされます。  \n",
    "エンドポイントは時間課金されるため、注意してください。**  \n",
    "意図せぬ課金を避けるためにも、最後の後片付けのステップは必ず実施してください。  "
   ]
  },
  {
   "cell_type": "code",
   "execution_count": 6,
   "id": "a6ed2fc7-0678-424b-9590-dcfe153f45c2",
   "metadata": {
    "tags": []
   },
   "outputs": [
    {
     "name": "stdout",
     "output_type": "stream",
     "text": [
      "-----!"
     ]
    }
   ],
   "source": [
    "from sagemaker.huggingface import HuggingFaceModel\n",
    "from sagemaker.serializers import DataSerializer\n",
    "import sagemaker\n",
    "\n",
    "#### <変更箇所> 下の行はコメントアウトし、最初に設定した値を使う。 ####\n",
    "# role = sagemaker.get_execution_role()\n",
    "#### \n",
    "# Hub Model configuration. https://huggingface.co/models\n",
    "hub = {\n",
    "\t'HF_MODEL_ID':'facebook/wav2vec2-base-960h',\n",
    "\t'HF_TASK':'automatic-speech-recognition'\n",
    "}\n",
    "\n",
    "# create Hugging Face Model Class\n",
    "huggingface_model = HuggingFaceModel(\n",
    "\ttransformers_version='4.17.0',\n",
    "\tpytorch_version='1.10.2',\n",
    "\tpy_version='py38',\n",
    "\tenv=hub,\n",
    "\trole=role, \n",
    ")\n",
    "\n",
    "# deploy model to SageMaker Inference\n",
    "#### <変更箇所> 音声データをリクエストできるよう Audio Seriealizer を追加する ####\n",
    "audio_serializer = DataSerializer(content_type='audio/x-audio')  # x-audio にしておくことで複数の音声フォーマットに対応\n",
    "####\n",
    "predictor = huggingface_model.deploy(\n",
    "\tinitial_instance_count=1, # number of instances\n",
    "\tinstance_type='ml.m5.xlarge', # ec2 instance type\n",
    "    #### <変更箇所> Audio Serializer を追加 ####\n",
    "    serializer=audio_serializer\n",
    "    ####\n",
    ")\n",
    "\n",
    "#### <変更箇所> 推論部分は別途実装する必要があるのでコメントアウト\n",
    "# predictor.predict({\n",
    "# \t'inputs': \"sample1.flac\"\n",
    "# })\n",
    "####\n",
    "\n"
   ]
  },
  {
   "cell_type": "markdown",
   "id": "cd993581-078c-4290-a9d4-7c855a5ec220",
   "metadata": {},
   "source": [
    "### デプロイしたエンドポイントに対して音声データを送ってみる\n",
    "\n",
    "まずは、公開されている音声データを使ってどんな結果が返ってくるかみてみましょう。"
   ]
  },
  {
   "cell_type": "markdown",
   "id": "25954710-5070-48a6-87e3-18e084ad42ac",
   "metadata": {},
   "source": [
    "huggingface.io 上で公開されている `libirispeech` と呼ばれる音声データセットの中からファイルを取得します。"
   ]
  },
  {
   "cell_type": "code",
   "execution_count": 7,
   "id": "9c7decec-69c7-4fc1-a572-7b553fbf8d18",
   "metadata": {},
   "outputs": [
    {
     "name": "stdout",
     "output_type": "stream",
     "text": [
      "--2022-11-04 05:13:13--  https://cdn-media.huggingface.co/speech_samples/sample1.flac\n",
      "Resolving cdn-media.huggingface.co (cdn-media.huggingface.co)... 108.156.184.85, 108.156.184.79, 108.156.184.2, ...\n",
      "Connecting to cdn-media.huggingface.co (cdn-media.huggingface.co)|108.156.184.85|:443... connected.\n",
      "HTTP request sent, awaiting response... 200 OK\n",
      "Length: 282378 (276K) [audio/flac]\n",
      "Saving to: 'sample1.flac.1'\n",
      "\n",
      "sample1.flac.1      100%[===================>] 275.76K  --.-KB/s    in 0.003s  \n",
      "\n",
      "2022-11-04 05:13:13 (95.1 MB/s) - 'sample1.flac.1' saved [282378/282378]\n",
      "\n"
     ]
    }
   ],
   "source": [
    "!wget https://cdn-media.huggingface.co/speech_samples/sample1.flac"
   ]
  },
  {
   "cell_type": "code",
   "execution_count": 10,
   "id": "96877182-b786-4671-ae2a-a60b3b24f094",
   "metadata": {},
   "outputs": [
    {
     "name": "stdout",
     "output_type": "stream",
     "text": [
      "{'text': \"GOING ALONG SLUSHY COUNTRY ROADS AND SPEAKING TO DAMP AUDIENCES IN DRAUGHTY SCHOOL ROOMS DAY AFTER DAY FOR A FORTNIGHT HE'LL HAVE TO PUT IN AN APPEARANCE AT SOME PLACE OF WORSHIP ON SUNDAY MORNING AND HE CAN COME TO US IMMEDIATELY AFTERWARDS\"}\n"
     ]
    }
   ],
   "source": [
    "audio_path = \"sample1.flac\"\n",
    "\n",
    "res = predictor.predict(data=audio_path)\n",
    "print(res)"
   ]
  },
  {
   "cell_type": "markdown",
   "id": "5da81fb9-b271-41a1-b296-393b769170fa",
   "metadata": {},
   "source": [
    "また、音声データをバイナリ形式で送信する方法もあります。"
   ]
  },
  {
   "cell_type": "code",
   "execution_count": 11,
   "id": "87974496-f383-4d7c-8dd5-95e47d17a8f0",
   "metadata": {},
   "outputs": [
    {
     "name": "stdout",
     "output_type": "stream",
     "text": [
      "{'text': \"GOING ALONG SLUSHY COUNTRY ROADS AND SPEAKING TO DAMP AUDIENCES IN DRAUGHTY SCHOOL ROOMS DAY AFTER DAY FOR A FORTNIGHT HE'LL HAVE TO PUT IN AN APPEARANCE AT SOME PLACE OF WORSHIP ON SUNDAY MORNING AND HE CAN COME TO US IMMEDIATELY AFTERWARDS\"}\n"
     ]
    }
   ],
   "source": [
    "audio_path = \"sample1.flac\"\n",
    "\n",
    "with open(audio_path, \"rb\") as data_file:\n",
    "    audio_data = data_file.read()\n",
    "    res = predictor.predict(data=audio_data)\n",
    "    print(res)"
   ]
  },
  {
   "cell_type": "markdown",
   "id": "77c0e3c6-956f-4b3f-b3fc-d9e3c0014b8d",
   "metadata": {},
   "source": [
    "### 後片付け\n",
    "\n",
    "先ほど作成したモデルとデプロイしたエンドポイントを最後に削除します。"
   ]
  },
  {
   "cell_type": "code",
   "execution_count": 12,
   "id": "ae92bb31-2fe0-40e3-919a-123e8cadf7cc",
   "metadata": {
    "tags": []
   },
   "outputs": [],
   "source": [
    "predictor.delete_model()\n",
    "predictor.delete_endpoint()"
   ]
  }
 ],
 "metadata": {
  "kernelspec": {
   "display_name": "default:Python",
   "language": "python",
   "name": "conda-env-default-py"
  },
  "language_info": {
   "codemirror_mode": {
    "name": "ipython",
    "version": 3
   },
   "file_extension": ".py",
   "mimetype": "text/x-python",
   "name": "python",
   "nbconvert_exporter": "python",
   "pygments_lexer": "ipython3",
   "version": "3.9.7"
  }
 },
 "nbformat": 4,
 "nbformat_minor": 5
}
